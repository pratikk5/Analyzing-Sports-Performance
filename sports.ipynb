{
  "nbformat": 4,
  "nbformat_minor": 0,
  "metadata": {
    "colab": {
      "provenance": []
    },
    "kernelspec": {
      "name": "python3",
      "display_name": "Python 3"
    },
    "language_info": {
      "name": "python"
    }
  },
  "cells": [
    {
      "cell_type": "code",
      "source": [
        "import pandas as pd\n",
        "from google.colab import files\n",
        "\n",
        "# Upload the file\n",
        "uploaded = files.upload()\n",
        "\n",
        "# Get the filename (in case you upload a different file)\n",
        "filename = next(iter(uploaded))\n",
        "\n",
        "# Load dataset\n",
        "df = pd.read_csv(filename)\n",
        "df.head()\n",
        "\n",
        "import pandas as pd\n",
        "from google.colab import files\n",
        "\n",
        "files.upload()  # Upload player_stats_2023.csv\n",
        "df = pd.read_csv('player_stats_2023.csv')\n",
        "df.head()"
      ],
      "metadata": {
        "id": "5iMkWunlJ8A6"
      },
      "execution_count": null,
      "outputs": []
    },
    {
      "cell_type": "code",
      "source": [
        "import pandas as pd\n",
        "\n",
        "# Load dataset\n",
        "df = pd.read_csv('player_stats_2023.csv')\n",
        "df.head()\n"
      ],
      "metadata": {
        "id": "g7TT9FzbLaXL"
      },
      "execution_count": null,
      "outputs": []
    },
    {
      "cell_type": "code",
      "source": [
        "# Drop missing or invalid data\n",
        "df.dropna(subset=['minutes_played', 'goals'], inplace=True)\n",
        "\n",
        "# Normalize stats per 90 minutes\n",
        "df['goals_per_90'] = df['goals'] / df['minutes_played'] * 90\n",
        "df['assists_per_90'] = df['assists'] / df['minutes_played'] * 90\n",
        "df['tackles_per_90'] = df['tackles'] / df['minutes_played'] * 90\n"
      ],
      "metadata": {
        "id": "8fAE_2csLeT8"
      },
      "execution_count": null,
      "outputs": []
    },
    {
      "cell_type": "code",
      "source": [
        "import seaborn as sns\n",
        "import matplotlib.pyplot as plt\n",
        "\n",
        "# Compare positions\n",
        "sns.boxplot(x='position', y='goals_per_90', data=df)\n",
        "plt.title('Goals per 90 by Position')\n",
        "plt.show()\n",
        "\n",
        "# Correlation heatmap\n",
        "sns.heatmap(df[['goals_per_90', 'assists_per_90', 'tackles_per_90', 'market_value']].corr(), annot=True)\n",
        "plt.title('Feature Correlations')\n",
        "plt.show()\n"
      ],
      "metadata": {
        "id": "ANNMYF7pLiYh"
      },
      "execution_count": null,
      "outputs": []
    },
    {
      "cell_type": "code",
      "source": [
        "from sklearn.model_selection import train_test_split\n",
        "from sklearn.ensemble import RandomForestRegressor\n",
        "\n",
        "# Define features and target\n",
        "features = ['goals_per_90', 'assists_per_90', 'tackles_per_90']\n",
        "X = df[features]\n",
        "y = df['market_value']\n",
        "\n",
        "# Split data\n",
        "X_train, X_test, y_train, y_test = train_test_split(X, y, test_size=0.2, random_state=42)\n",
        "\n",
        "# Train model\n",
        "model = RandomForestRegressor()\n",
        "model.fit(X_train, y_train)\n",
        "\n",
        "# Evaluate\n",
        "print(\"R² Score:\", model.score(X_test, y_test))\n"
      ],
      "metadata": {
        "id": "htKF2ujDLnGS"
      },
      "execution_count": null,
      "outputs": []
    },
    {
      "cell_type": "code",
      "source": [
        "import shap\n",
        "\n",
        "# Explain model predictions\n",
        "explainer = shap.Explainer(model, X_test)\n",
        "shap_values = explainer(X_test)\n",
        "\n",
        "# Visualize SHAP\n",
        "shap.plots.beeswarm(shap_values)\n"
      ],
      "metadata": {
        "id": "-DC52fvQLp_r"
      },
      "execution_count": null,
      "outputs": []
    },
    {
      "cell_type": "code",
      "source": [
        "# Define total contribution metric\n",
        "df['contribution_per_90'] = df['goals_per_90'] + df['assists_per_90']\n",
        "\n",
        "# Select top forwards\n",
        "top_forwards = df[df['position'] == 'Forward'].sort_values(by='contribution_per_90', ascending=False).head(10)\n",
        "\n",
        "# Display\n",
        "print(top_forwards[['player_name', 'contribution_per_90', 'market_value']])\n"
      ],
      "metadata": {
        "id": "x0I5l-q1LsRD"
      },
      "execution_count": null,
      "outputs": []
    },
    {
      "cell_type": "code",
      "source": [
        "top_forwards.to_csv('top_10_forwards.csv', index=False)\n"
      ],
      "metadata": {
        "id": "52NGDBGcLu-k"
      },
      "execution_count": null,
      "outputs": []
    }
  ]
}